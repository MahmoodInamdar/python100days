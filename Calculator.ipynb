{
  "nbformat": 4,
  "nbformat_minor": 0,
  "metadata": {
    "colab": {
      "provenance": [],
      "name": "Calculator.ipynb",
      "authorship_tag": "ABX9TyNiU6iPY6UJOc8FhAyoFCeG",
      "include_colab_link": true
    },
    "kernelspec": {
      "name": "python3",
      "display_name": "Python 3"
    },
    "language_info": {
      "name": "python"
    }
  },
  "cells": [
    {
      "cell_type": "markdown",
      "metadata": {
        "id": "view-in-github",
        "colab_type": "text"
      },
      "source": [
        "<a href=\"https://colab.research.google.com/github/MahmoodInamdar/python100days/blob/main/Calculator.ipynb\" target=\"_parent\"><img src=\"https://colab.research.google.com/assets/colab-badge.svg\" alt=\"Open In Colab\"/></a>"
      ]
    },
    {
      "cell_type": "code",
      "execution_count": null,
      "metadata": {
        "colab": {
          "base_uri": "https://localhost:8080/"
        },
        "id": "q9DHb3sp1-wP",
        "outputId": "a3725c05-e4b3-4305-bcb5-171db4ffe308"
      },
      "outputs": [
        {
          "output_type": "stream",
          "name": "stdout",
          "text": [
            "\n",
            " _____________________\n",
            "|  _________________  |\n",
            "| | Pythonista   0. | |  .----------------.  .----------------.  .----------------.  .----------------. \n",
            "| |_________________| | | .--------------. || .--------------. || .--------------. || .--------------. |\n",
            "|  ___ ___ ___   ___  | | |     ______   | || |      __      | || |   _____      | || |     ______   | |\n",
            "| | 7 | 8 | 9 | | + | | | |   .' ___  |  | || |     /  \\     | || |  |_   _|     | || |   .' ___  |  | |\n",
            "| |___|___|___| |___| | | |  / .'   \\_|  | || |    / /\\ \\    | || |    | |       | || |  / .'   \\_|  | |\n",
            "| | 4 | 5 | 6 | | - | | | |  | |         | || |   / ____ \\   | || |    | |   _   | || |  | |         | |\n",
            "| |___|___|___| |___| | | |  \\ `.___.'\\  | || | _/ /    \\ \\_ | || |   _| |__/ |  | || |  \\ `.___.'\\  | |\n",
            "| | 1 | 2 | 3 | | x | | | |   `._____.'  | || ||____|  |____|| || |  |________|  | || |   `._____.'  | |\n",
            "| |___|___|___| |___| | | |              | || |              | || |              | || |              | |\n",
            "| | . | 0 | = | | / | | | '--------------' || '--------------' || '--------------' || '--------------' |\n",
            "| |___|___|___| |___| |  '----------------'  '----------------'  '----------------'  '----------------' \n",
            "|_____________________|\n",
            "\n",
            "Please enter the first number: 22\n",
            "+\n",
            "-\n",
            "*\n",
            "/\n",
            "Pick an operation: -\n",
            "What's the next number?: 2\n",
            "22.0 - 2.0 = 20.0\n",
            "Type 'y' to continue calculating with 20.0, or type 'n' to start a new calculation: y\n",
            "Pick an operation: +\n",
            "What's the next number?: 1\n",
            "20.0 + 1.0 = 21.0\n",
            "Type 'y' to continue calculating with 21.0, or type 'n' to start a new calculation: n\n",
            "\n",
            " _____________________\n",
            "|  _________________  |\n",
            "| | Pythonista   0. | |  .----------------.  .----------------.  .----------------.  .----------------. \n",
            "| |_________________| | | .--------------. || .--------------. || .--------------. || .--------------. |\n",
            "|  ___ ___ ___   ___  | | |     ______   | || |      __      | || |   _____      | || |     ______   | |\n",
            "| | 7 | 8 | 9 | | + | | | |   .' ___  |  | || |     /  \\     | || |  |_   _|     | || |   .' ___  |  | |\n",
            "| |___|___|___| |___| | | |  / .'   \\_|  | || |    / /\\ \\    | || |    | |       | || |  / .'   \\_|  | |\n",
            "| | 4 | 5 | 6 | | - | | | |  | |         | || |   / ____ \\   | || |    | |   _   | || |  | |         | |\n",
            "| |___|___|___| |___| | | |  \\ `.___.'\\  | || | _/ /    \\ \\_ | || |   _| |__/ |  | || |  \\ `.___.'\\  | |\n",
            "| | 1 | 2 | 3 | | x | | | |   `._____.'  | || ||____|  |____|| || |  |________|  | || |   `._____.'  | |\n",
            "| |___|___|___| |___| | | |              | || |              | || |              | || |              | |\n",
            "| | . | 0 | = | | / | | | '--------------' || '--------------' || '--------------' || '--------------' |\n",
            "| |___|___|___| |___| |  '----------------'  '----------------'  '----------------'  '----------------' \n",
            "|_____________________|\n",
            "\n"
          ]
        }
      ],
      "source": [
        "\n",
        "\n",
        "from cal import logo\n",
        "\n",
        "\n",
        "def add(n1, n2):\n",
        "  return n1 + n2\n",
        "\n",
        "def subtract(n1, n2):\n",
        "  return n1 - n2\n",
        "\n",
        "def multiply(n1, n2):\n",
        "  return n1 * n2\n",
        "\n",
        "def divide(n1, n2):\n",
        "  return n1 / n2\n",
        "\n",
        "operations = {\n",
        "  \"+\": add,\n",
        "  \"-\": subtract,\n",
        "  \"*\": multiply,\n",
        "  \"/\": divide\n",
        "}\n",
        "\n",
        "def calculator():\n",
        "  print(logo)\n",
        "\n",
        "  num1 = float(input(\"Please enter the first number: \"))\n",
        "  for symbol in operations:\n",
        "    print(symbol)\n",
        "  should_continue = True\n",
        "\n",
        "  while should_continue:\n",
        "    operation_symbol = input(\"Pick an operation: \")\n",
        "    num2 = float(input(\"What's the next number?: \"))\n",
        "    calculation_function = operations[operation_symbol]\n",
        "    answer = calculation_function(num1, num2)\n",
        "    print(f\"{num1} {operation_symbol} {num2} = {answer}\")\n",
        "\n",
        "    if input(f\"Type 'y' to continue calculating with {answer}, or type 'n' to start a new calculation: \") == 'y':\n",
        "      num1 = answer\n",
        "    else:\n",
        "      should_continue = False\n",
        "      #clear()\n",
        "      calculator()\n",
        "\n",
        "calculator()\n"
      ]
    }
  ]
}