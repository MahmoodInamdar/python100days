{
  "nbformat": 4,
  "nbformat_minor": 0,
  "metadata": {
    "colab": {
      "provenance": [],
      "authorship_tag": "ABX9TyP7EIMWjhhd8WzzBShC/LvD",
      "include_colab_link": true
    },
    "kernelspec": {
      "name": "python3",
      "display_name": "Python 3"
    },
    "language_info": {
      "name": "python"
    }
  },
  "cells": [
    {
      "cell_type": "markdown",
      "metadata": {
        "id": "view-in-github",
        "colab_type": "text"
      },
      "source": [
        "<a href=\"https://colab.research.google.com/github/MahmoodInamdar/python100days/blob/main/QuizAnswerOOP.ipynb\" target=\"_parent\"><img src=\"https://colab.research.google.com/assets/colab-badge.svg\" alt=\"Open In Colab\"/></a>"
      ]
    },
    {
      "cell_type": "markdown",
      "source": [
        "DATA.PY"
      ],
      "metadata": {
        "id": "OW7Rl19LJ2V8"
      }
    },
    {
      "cell_type": "code",
      "source": [
        "# question_data = [\n",
        "#     {\"text\": \"A slug's blood is green.\", \"answer\": \"True\"},\n",
        "#     {\"text\": \"The loudest animal is the African Elephant.\", \"answer\": \"False\"},\n",
        "#     {\"text\": \"Approximately one quarter of human bones are in the feet.\", \"answer\": \"True\"},\n",
        "#     {\"text\": \"The total surface area of a human lungs is the size of a football pitch.\", \"answer\": \"True\"},\n",
        "#     {\"text\": \"In West Virginia, USA, if you accidentally hit an animal with your car, \"\n",
        "#              \"you are free to take it home to eat.\", \"answer\": \"True\"},\n",
        "#     {\"text\": \"In London, UK, if you happen to die in the House of Parliament, \"\n",
        "#              \"you are entitled to a state funeral.\", \"answer\": \"False\"},\n",
        "#     {\"text\": \"It is illegal to pee in the Ocean in Portugal.\", \"answer\": \"True\"},\n",
        "#     {\"text\": \"You can lead a cow down stairs but not up stairs.\", \"answer\": \"False\"},\n",
        "#     {\"text\": \"Google was originally called 'Backrub'.\", \"answer\": \"True\"},\n",
        "#     {\"text\": \"Buzz Aldrin's mother's maiden name was 'Moon'.\", \"answer\": \"True\"},\n",
        "#     {\"text\": \"No piece of square dry paper can be folded in half more than 7 times.\", \"answer\": \"False\"},\n",
        "#     {\"text\": \"A few ounces of chocolate can to kill a small dog.\", \"answer\": \"True\"}\n",
        "# ]"
      ],
      "metadata": {
        "id": "W5PLm3BUJwHe"
      },
      "execution_count": null,
      "outputs": []
    },
    {
      "cell_type": "markdown",
      "source": [
        "Question_model.py\n"
      ],
      "metadata": {
        "id": "vOzWl6SdJ74z"
      }
    },
    {
      "cell_type": "code",
      "source": [
        "# class Question:\n",
        "#     def __init__(self, q_text, q_answer):\n",
        "#         self.text = q_text\n",
        "#         self.answer = q_answer\n",
        "\n",
        "\n",
        "\n",
        "\n",
        "\n"
      ],
      "metadata": {
        "id": "v-ILcNXEJvhs"
      },
      "execution_count": null,
      "outputs": []
    },
    {
      "cell_type": "markdown",
      "source": [
        "QuizBrain.py\n"
      ],
      "metadata": {
        "id": "NaZqxqd7KEsb"
      }
    },
    {
      "cell_type": "code",
      "source": [
        "# class QuizBrain:\n",
        "\n",
        "#     def __init__(self, q_list):\n",
        "#         self.score = 0\n",
        "#         self.question_number = 0\n",
        "#         self.question_list = q_list\n",
        "\n",
        "#     def still_has_questions(self):\n",
        "#         return self.question_number < len(self.question_list)\n",
        "\n",
        "\n",
        "#     def next_question(self):\n",
        "#         current_question = self.question_list[self.question_number]\n",
        "#         self.question_number += 1\n",
        "#         user_answer = input(f\"Q.{self.question_number}: {current_question.text} (True/False):\")\n",
        "#         self.check_answer(user_answer, current_question.answer)\n",
        "\n",
        "\n",
        "#     def check_answer(self, user_answer, correct_answer):\n",
        "#         if user_answer.lower() == correct_answer.lower():\n",
        "#             print(\"You got it right\")\n",
        "#             self.score += 1\n",
        "\n",
        "#         else:\n",
        "#            print(\"That's Wrong\")\n",
        "#         print(f\"The correct answer was: {correct_answer}\")\n",
        "#         print(f\"Your current score is: {self.score}/{self.question_number}\")\n",
        "\n",
        "\n"
      ],
      "metadata": {
        "id": "2xf3KNwOJvZq"
      },
      "execution_count": null,
      "outputs": []
    },
    {
      "cell_type": "code",
      "source": [],
      "metadata": {
        "id": "3qwImGO2JvPf"
      },
      "execution_count": null,
      "outputs": []
    },
    {
      "cell_type": "code",
      "execution_count": 1,
      "metadata": {
        "colab": {
          "base_uri": "https://localhost:8080/"
        },
        "id": "ZrxPawmdG8Eb",
        "outputId": "175b4225-74bc-4cf9-873d-b3324c29a459"
      },
      "outputs": [
        {
          "output_type": "stream",
          "name": "stdout",
          "text": [
            "Q.1: A slug's blood is green. (True/False):True\n",
            "You got it right\n",
            "The correct answer was: True\n",
            "Your current score is: 1/1\n",
            "Q.2: The loudest animal is the African Elephant. (True/False):false\n",
            "You got it right\n",
            "The correct answer was: False\n",
            "Your current score is: 2/2\n",
            "Q.3: Approximately one quarter of human bones are in the feet. (True/False):false\n",
            "That's Wrong\n",
            "The correct answer was: True\n",
            "Your current score is: 2/3\n",
            "Q.4: The total surface area of a human lungs is the size of a football pitch. (True/False):false\n",
            "That's Wrong\n",
            "The correct answer was: True\n",
            "Your current score is: 2/4\n",
            "Q.5: In West Virginia, USA, if you accidentally hit an animal with your car, you are free to take it home to eat. (True/False):false\n",
            "That's Wrong\n",
            "The correct answer was: True\n",
            "Your current score is: 2/5\n",
            "Q.6: In London, UK, if you happen to die in the House of Parliament, you are entitled to a state funeral. (True/False):false\n",
            "You got it right\n",
            "The correct answer was: False\n",
            "Your current score is: 3/6\n",
            "Q.7: It is illegal to pee in the Ocean in Portugal. (True/False):false\n",
            "That's Wrong\n",
            "The correct answer was: True\n",
            "Your current score is: 3/7\n",
            "Q.8: You can lead a cow down stairs but not up stairs. (True/False):false\n",
            "You got it right\n",
            "The correct answer was: False\n",
            "Your current score is: 4/8\n",
            "Q.9: Google was originally called 'Backrub'. (True/False):true\n",
            "You got it right\n",
            "The correct answer was: True\n",
            "Your current score is: 5/9\n",
            "Q.10: Buzz Aldrin's mother's maiden name was 'Moon'. (True/False):true\n",
            "You got it right\n",
            "The correct answer was: True\n",
            "Your current score is: 6/10\n",
            "Q.11: No piece of square dry paper can be folded in half more than 7 times. (True/False):true\n",
            "That's Wrong\n",
            "The correct answer was: False\n",
            "Your current score is: 6/11\n",
            "Q.12: A few ounces of chocolate can to kill a small dog. (True/False):true\n",
            "You got it right\n",
            "The correct answer was: True\n",
            "Your current score is: 7/12\n",
            "You have completed the Quiz\n",
            "Your final scores are: 7/12\n"
          ]
        }
      ],
      "source": [
        "from question_model import Question\n",
        "from data import question_data\n",
        "from quiz_brain import QuizBrain\n",
        "\n",
        "question_bank=[]\n",
        "for question in question_data:\n",
        "    question_text = question[\"text\"]\n",
        "    question_answer = question[\"answer\"]\n",
        "    new_question = Question(question_text, question_answer)\n",
        "    question_bank.append(new_question)\n",
        "f\n",
        "quiz = QuizBrain(question_bank)\n",
        "while quiz.still_has_questions():\n",
        "    quiz.next_question()\n",
        "\n",
        "print(\"You have completed the Quiz\")\n",
        "print(f\"Your final scores are: {quiz.score}/{quiz.question_number}\")"
      ]
    }
  ]
}