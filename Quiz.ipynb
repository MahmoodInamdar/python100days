{
  "nbformat": 4,
  "nbformat_minor": 0,
  "metadata": {
    "colab": {
      "provenance": [],
      "authorship_tag": "ABX9TyNewadDLaYwxGqqtNchcHI5",
      "include_colab_link": true
    },
    "kernelspec": {
      "name": "python3",
      "display_name": "Python 3"
    },
    "language_info": {
      "name": "python"
    }
  },
  "cells": [
    {
      "cell_type": "markdown",
      "metadata": {
        "id": "view-in-github",
        "colab_type": "text"
      },
      "source": [
        "<a href=\"https://colab.research.google.com/github/MahmoodInamdar/python100days/blob/main/Quiz.ipynb\" target=\"_parent\"><img src=\"https://colab.research.google.com/assets/colab-badge.svg\" alt=\"Open In Colab\"/></a>"
      ]
    },
    {
      "cell_type": "code",
      "execution_count": 1,
      "metadata": {
        "colab": {
          "base_uri": "https://localhost:8080/"
        },
        "id": "ZrxPawmdG8Eb",
        "outputId": "175b4225-74bc-4cf9-873d-b3324c29a459"
      },
      "outputs": [
        {
          "output_type": "stream",
          "name": "stdout",
          "text": [
            "Q.1: A slug's blood is green. (True/False):True\n",
            "You got it right\n",
            "The correct answer was: True\n",
            "Your current score is: 1/1\n",
            "Q.2: The loudest animal is the African Elephant. (True/False):false\n",
            "You got it right\n",
            "The correct answer was: False\n",
            "Your current score is: 2/2\n",
            "Q.3: Approximately one quarter of human bones are in the feet. (True/False):false\n",
            "That's Wrong\n",
            "The correct answer was: True\n",
            "Your current score is: 2/3\n",
            "Q.4: The total surface area of a human lungs is the size of a football pitch. (True/False):false\n",
            "That's Wrong\n",
            "The correct answer was: True\n",
            "Your current score is: 2/4\n",
            "Q.5: In West Virginia, USA, if you accidentally hit an animal with your car, you are free to take it home to eat. (True/False):false\n",
            "That's Wrong\n",
            "The correct answer was: True\n",
            "Your current score is: 2/5\n",
            "Q.6: In London, UK, if you happen to die in the House of Parliament, you are entitled to a state funeral. (True/False):false\n",
            "You got it right\n",
            "The correct answer was: False\n",
            "Your current score is: 3/6\n",
            "Q.7: It is illegal to pee in the Ocean in Portugal. (True/False):false\n",
            "That's Wrong\n",
            "The correct answer was: True\n",
            "Your current score is: 3/7\n",
            "Q.8: You can lead a cow down stairs but not up stairs. (True/False):false\n",
            "You got it right\n",
            "The correct answer was: False\n",
            "Your current score is: 4/8\n",
            "Q.9: Google was originally called 'Backrub'. (True/False):true\n",
            "You got it right\n",
            "The correct answer was: True\n",
            "Your current score is: 5/9\n",
            "Q.10: Buzz Aldrin's mother's maiden name was 'Moon'. (True/False):true\n",
            "You got it right\n",
            "The correct answer was: True\n",
            "Your current score is: 6/10\n",
            "Q.11: No piece of square dry paper can be folded in half more than 7 times. (True/False):true\n",
            "That's Wrong\n",
            "The correct answer was: False\n",
            "Your current score is: 6/11\n",
            "Q.12: A few ounces of chocolate can to kill a small dog. (True/False):true\n",
            "You got it right\n",
            "The correct answer was: True\n",
            "Your current score is: 7/12\n",
            "You have completed the Quiz\n",
            "Your final scores are: 7/12\n"
          ]
        }
      ],
      "source": [
        "from question_model import Question\n",
        "from data import question_data\n",
        "from quiz_brain import QuizBrain\n",
        "\n",
        "question_bank=[]\n",
        "for question in question_data:\n",
        "    question_text = question[\"text\"]\n",
        "    question_answer = question[\"answer\"]\n",
        "    new_question = Question(question_text, question_answer)\n",
        "    question_bank.append(new_question)\n",
        "f\n",
        "quiz = QuizBrain(question_bank)\n",
        "while quiz.still_has_questions():\n",
        "    quiz.next_question()\n",
        "\n",
        "print(\"You have completed the Quiz\")\n",
        "print(f\"Your final scores are: {quiz.score}/{quiz.question_number}\")"
      ]
    }
  ]
}