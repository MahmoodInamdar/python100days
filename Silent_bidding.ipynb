{
  "nbformat": 4,
  "nbformat_minor": 0,
  "metadata": {
    "colab": {
      "provenance": [],
      "authorship_tag": "ABX9TyPAWasKgkvFZfD4ThSXSKUB",
      "include_colab_link": true
    },
    "kernelspec": {
      "name": "python3",
      "display_name": "Python 3"
    },
    "language_info": {
      "name": "python"
    }
  },
  "cells": [
    {
      "cell_type": "markdown",
      "metadata": {
        "id": "view-in-github",
        "colab_type": "text"
      },
      "source": [
        "<a href=\"https://colab.research.google.com/github/MahmoodInamdar/python100days/blob/main/Silent_bidding.ipynb\" target=\"_parent\"><img src=\"https://colab.research.google.com/assets/colab-badge.svg\" alt=\"Open In Colab\"/></a>"
      ]
    },
    {
      "cell_type": "code",
      "execution_count": 2,
      "metadata": {
        "colab": {
          "base_uri": "https://localhost:8080/"
        },
        "id": "c_Dr0tm9j6Jl",
        "outputId": "f244a174-d701-44ba-d7a7-cbd25b4cdb25"
      },
      "outputs": [
        {
          "output_type": "stream",
          "name": "stdout",
          "text": [
            "What is your name?: Mahmood\n",
            "What is your bid?: $22\n",
            "Are there any other bidders? Type 'yes or 'no'.\n",
            "yes\n",
            "What is your name?: farnaz\n",
            "What is your bid?: $22\n",
            "Are there any other bidders? Type 'yes or 'no'.\n",
            "no\n",
            "The winner is Mahmood with a bid of $22\n"
          ]
        }
      ],
      "source": [
        "\n",
        "\n",
        "bids = {}\n",
        "bidding_finished = False\n",
        "\n",
        "def find_highest_bidder(bidding_record):\n",
        "  highest_bid = 0\n",
        "  winner = \"\"\n",
        "  # bidding_record = {\"Angela\": 123, \"James\": 321}\n",
        "  for bidder in bidding_record:\n",
        "    bid_amount = bidding_record[bidder]\n",
        "    if bid_amount > highest_bid:\n",
        "      highest_bid = bid_amount\n",
        "      winner = bidder\n",
        "  print(f\"The winner is {winner} with a bid of ${highest_bid}\")\n",
        "\n",
        "while not bidding_finished:\n",
        "  name = input(\"What is your name?: \")\n",
        "  price = int(input(\"What is your bid?: $\"))\n",
        "  bids[name] = price\n",
        "  should_continue = input(\"Are there any other bidders? Type 'yes or 'no'.\\n\")\n",
        "  if should_continue == \"no\":\n",
        "    bidding_finished = True\n",
        "    find_highest_bidder(bids)\n",
        "  #elif should_continue == \"yes\":\n",
        "    #clear()\n",
        "\n"
      ]
    }
  ]
}